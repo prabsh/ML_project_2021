{
 "cells": [
  {
   "cell_type": "markdown",
   "metadata": {
    "colab_type": "text",
    "id": "view-in-github"
   },
   "source": [
    "<a href=\"https://colab.research.google.com/github/manashpratim/Quora-Insincere-Questions-Classification/blob/master/Quora_Insincere_Questions_Classification.ipynb\" target=\"_parent\"><img src=\"https://colab.research.google.com/assets/colab-badge.svg\" alt=\"Open In Colab\"/></a>"
   ]
  },
  {
   "cell_type": "code",
   "execution_count": 1,
   "metadata": {
    "colab": {},
    "colab_type": "code",
    "id": "tlrXcgANrhJ1"
   },
   "outputs": [],
   "source": [
    "import tensorflow as tf"
   ]
  },
  {
   "cell_type": "code",
   "execution_count": 2,
   "metadata": {
    "colab": {},
    "colab_type": "code",
    "id": "tlrXcgANrhJ1"
   },
   "outputs": [
    {
     "data": {
      "text/plain": [
       "True"
      ]
     },
     "execution_count": 2,
     "metadata": {},
     "output_type": "execute_result"
    }
   ],
   "source": [
    "tf.test.is_built_with_cuda()\n",
    "\n",
    "\n"
   ]
  },
  {
   "cell_type": "code",
   "execution_count": 3,
   "metadata": {
    "colab": {},
    "colab_type": "code",
    "id": "tlrXcgANrhJ1"
   },
   "outputs": [],
   "source": [
    "#Loading the Dataset\n",
    "import pandas as pd\n",
    "df=pd.read_csv('E:\\\\quora_data_set\\\\train.csv')\n"
   ]
  },
  {
   "cell_type": "code",
   "execution_count": 4,
   "metadata": {
    "colab": {
     "base_uri": "https://localhost:8080/",
     "height": 143
    },
    "colab_type": "code",
    "id": "R5f-fxoWs1kK",
    "outputId": "b09321c7-3a84-40b8-9029-8b41a13703b0"
   },
   "outputs": [
    {
     "data": {
      "text/html": [
       "<div>\n",
       "<style scoped>\n",
       "    .dataframe tbody tr th:only-of-type {\n",
       "        vertical-align: middle;\n",
       "    }\n",
       "\n",
       "    .dataframe tbody tr th {\n",
       "        vertical-align: top;\n",
       "    }\n",
       "\n",
       "    .dataframe thead th {\n",
       "        text-align: right;\n",
       "    }\n",
       "</style>\n",
       "<table border=\"1\" class=\"dataframe\">\n",
       "  <thead>\n",
       "    <tr style=\"text-align: right;\">\n",
       "      <th></th>\n",
       "      <th>qid</th>\n",
       "      <th>question_text</th>\n",
       "      <th>target</th>\n",
       "    </tr>\n",
       "  </thead>\n",
       "  <tbody>\n",
       "    <tr>\n",
       "      <th>0</th>\n",
       "      <td>00002165364db923c7e6</td>\n",
       "      <td>How did Quebec nationalists see their province...</td>\n",
       "      <td>0</td>\n",
       "    </tr>\n",
       "    <tr>\n",
       "      <th>1</th>\n",
       "      <td>000032939017120e6e44</td>\n",
       "      <td>Do you have an adopted dog, how would you enco...</td>\n",
       "      <td>0</td>\n",
       "    </tr>\n",
       "    <tr>\n",
       "      <th>2</th>\n",
       "      <td>0000412ca6e4628ce2cf</td>\n",
       "      <td>Why does velocity affect time? Does velocity a...</td>\n",
       "      <td>0</td>\n",
       "    </tr>\n",
       "  </tbody>\n",
       "</table>\n",
       "</div>"
      ],
      "text/plain": [
       "                    qid                                      question_text  \\\n",
       "0  00002165364db923c7e6  How did Quebec nationalists see their province...   \n",
       "1  000032939017120e6e44  Do you have an adopted dog, how would you enco...   \n",
       "2  0000412ca6e4628ce2cf  Why does velocity affect time? Does velocity a...   \n",
       "\n",
       "   target  \n",
       "0       0  \n",
       "1       0  \n",
       "2       0  "
      ]
     },
     "execution_count": 4,
     "metadata": {},
     "output_type": "execute_result"
    }
   ],
   "source": [
    "df.head(3)"
   ]
  },
  {
   "cell_type": "code",
   "execution_count": 5,
   "metadata": {
    "colab": {
     "base_uri": "https://localhost:8080/",
     "height": 72
    },
    "colab_type": "code",
    "id": "-duWAgEwtd7v",
    "outputId": "8cf493b6-c78a-4682-952b-3d1b1e24be37"
   },
   "outputs": [
    {
     "data": {
      "text/plain": [
       "0    1225312\n",
       "1      80810\n",
       "Name: target, dtype: int64"
      ]
     },
     "execution_count": 5,
     "metadata": {},
     "output_type": "execute_result"
    }
   ],
   "source": [
    "#Class Distribution\n",
    "df['target'].value_counts()"
   ]
  },
  {
   "cell_type": "code",
   "execution_count": 6,
   "metadata": {
    "colab": {
     "base_uri": "https://localhost:8080/",
     "height": 90
    },
    "colab_type": "code",
    "id": "N-bdNTbdtLhY",
    "outputId": "d857babb-257c-4932-d785-f1ea0d41a9b7"
   },
   "outputs": [
    {
     "name": "stderr",
     "output_type": "stream",
     "text": [
      "[nltk_data] Downloading package stopwords to\n",
      "[nltk_data]     C:\\Users\\91821\\AppData\\Roaming\\nltk_data...\n",
      "[nltk_data]   Package stopwords is already up-to-date!\n",
      "[nltk_data] Downloading package punkt to\n",
      "[nltk_data]     C:\\Users\\91821\\AppData\\Roaming\\nltk_data...\n",
      "[nltk_data]   Package punkt is already up-to-date!\n"
     ]
    }
   ],
   "source": [
    "#Functions for Preprocessing the Dataset\n",
    "import nltk\n",
    "from nltk import word_tokenize\n",
    "nltk.download('stopwords')\n",
    "from nltk.corpus import stopwords\n",
    "nltk.download('punkt')\n",
    "stop_words = set(stopwords.words('english'))\n",
    "\n",
    "\n",
    "def mystopwords(text):\n",
    "    return ' '.join([w for w in word_tokenize(text) if not w in stop_words])\n",
    "\n",
    "import re\n",
    "def clean_text(string):\n",
    "  clean=re.sub('[\\n]',' ',string) #remove newline character\n",
    "  clean=re.sub('[^a-zA-Z]',' ',clean) #remove non alphabetic characters\n",
    "                                        #  clean=mystopwords(clean) #remove stopwords\n",
    "  return clean"
   ]
  },
  {
   "cell_type": "code",
   "execution_count": 7,
   "metadata": {
    "colab": {},
    "colab_type": "code",
    "id": "4BWdGI8QtTlB"
   },
   "outputs": [],
   "source": [
    "#Cleaning the data and separating the texts and labels\n",
    "sentences=[]\n",
    "labels=[]\n",
    "for i in range(len(df)):\n",
    "  labels.append(df['target'][i])\n",
    "  sentences.append(clean_text(df['question_text'][i]))"
   ]
  },
  {
   "cell_type": "code",
   "execution_count": 8,
   "metadata": {
    "colab": {},
    "colab_type": "code",
    "id": "rLMGL77muVlV"
   },
   "outputs": [],
   "source": [
    "#Suffling the data and splitting the data into train and test sets (90:10)\n",
    "from sklearn.model_selection import train_test_split\n",
    "train_sentences, val_sentences, train_labels, val_labels= train_test_split(sentences, labels, test_size=0.1, shuffle= True)\n",
    "train_sentences, test_sentences, train_labels, test_labels= train_test_split(train_sentences, train_labels, test_size=0.112, shuffle= True)"
   ]
  },
  {
   "cell_type": "code",
   "execution_count": 9,
   "metadata": {
    "colab": {
     "base_uri": "https://localhost:8080/",
     "height": 90
    },
    "colab_type": "code",
    "id": "pB1h2-DVu0TN",
    "outputId": "9e04ee28-a6a6-4420-8ecd-9d86145401c1"
   },
   "outputs": [
    {
     "name": "stdout",
     "output_type": "stream",
     "text": [
      "Length of the Data:  1306122\n",
      "No. of Training Examples:  1043851\n",
      "No. of Validation Examples:  130613\n",
      "No. of Test Examples:  131658\n",
      "No. of Classes:  2\n"
     ]
    }
   ],
   "source": [
    "#Data Summary\n",
    "print('Length of the Data: ',len(df))\n",
    "print('No. of Training Examples: ',len(train_sentences))\n",
    "print('No. of Validation Examples: ',len(val_sentences))\n",
    "print('No. of Test Examples: ',len(test_sentences))\n",
    "print('No. of Classes: ',df['target'].nunique())"
   ]
  },
  {
   "cell_type": "markdown",
   "metadata": {
    "colab_type": "text",
    "id": "f085D4OA0O4y"
   },
   "source": [
    "# **Bag of Words Models**"
   ]
  },
  {
   "cell_type": "markdown",
   "metadata": {
    "colab_type": "text",
    "id": "EDyEl0KDPsTL"
   },
   "source": [
    "## **ComplementNB Naive Bayes Classifier**"
   ]
  },
  {
   "cell_type": "code",
   "execution_count": 10,
   "metadata": {
    "colab": {},
    "colab_type": "code",
    "id": "kyuvIfWDvye8"
   },
   "outputs": [],
   "source": [
    "from sklearn.feature_extraction.text import CountVectorizer\n",
    "from sklearn.feature_extraction.text import TfidfTransformer\n",
    "from sklearn.naive_bayes import ComplementNB\n",
    "from sklearn.pipeline import Pipeline\n",
    "pipeline=Pipeline([('bow',CountVectorizer(analyzer=clean_text)),\n",
    "                   ('tfidf',TfidfTransformer()),\n",
    "                   ('classifier',ComplementNB())\n",
    "                   ])"
   ]
  },
  {
   "cell_type": "code",
   "execution_count": 11,
   "metadata": {
    "colab": {
     "base_uri": "https://localhost:8080/",
     "height": 651
    },
    "colab_type": "code",
    "id": "mLYm-R4dP43R",
    "outputId": "b35c9846-e92d-40cf-af77-b862e5dd14fb"
   },
   "outputs": [
    {
     "name": "stdout",
     "output_type": "stream",
     "text": [
      "Test Accuracy using MultiNomial Naive Bayes Classifier:  0.6707984656963701\n",
      "              precision    recall  f1-score   support\n",
      "\n",
      "           0       0.96      0.67      0.79    122447\n",
      "           1       0.11      0.63      0.19      8166\n",
      "\n",
      "    accuracy                           0.67    130613\n",
      "   macro avg       0.54      0.65      0.49    130613\n",
      "weighted avg       0.91      0.67      0.76    130613\n",
      "\n",
      "[[82501 39946]\n",
      " [ 3052  5114]]\n"
     ]
    },
    {
     "data": {
      "image/png": "[encoded data removed]",
      "text/plain": [
       "<Figure size 360x360 with 1 Axes>"
      ]
     },
     "metadata": {
      "needs_background": "light"
     },
     "output_type": "display_data"
    }
   ],
   "source": [
    "pipeline.fit(train_sentences,train_labels)\n",
    "pred=pipeline.predict(val_sentences)\n",
    "\n",
    "from sklearn.metrics import accuracy_score\n",
    "print('Test Accuracy using MultiNomial Naive Bayes Classifier: ',accuracy_score(val_labels,pred))\n",
    "\n",
    "from sklearn.metrics import classification_report\n",
    "print(classification_report(val_labels,pred))\n",
    "import matplotlib.pyplot as plt\n",
    "from sklearn.metrics import confusion_matrix\n",
    "print(confusion_matrix(val_labels, pred))\n",
    "CM = confusion_matrix(val_labels, pred)\n",
    "from mlxtend.plotting import plot_confusion_matrix\n",
    "fig, ax = plot_confusion_matrix(conf_mat=CM ,  figsize=(5, 5))\n",
    "plt.show()"
   ]
  },
  {
   "cell_type": "markdown",
   "metadata": {
    "colab_type": "text",
    "id": "0A87pt-lU-lq"
   },
   "source": [
    "### **While the classifier has a high accuracy, it fails to classify  even a single example from the minority class **"
   ]
  },
  {
   "cell_type": "markdown",
   "metadata": {
    "colab_type": "text",
    "id": "38d7tgwpUdf7"
   },
   "source": [
    "## **Logistic Regression**"
   ]
  },
  {
   "cell_type": "code",
   "execution_count": 12,
   "metadata": {
    "colab": {},
    "colab_type": "code",
    "id": "x0S-nppyUmVM"
   },
   "outputs": [],
   "source": [
    "from sklearn.feature_extraction.text import CountVectorizer\n",
    "from sklearn.feature_extraction.text import TfidfTransformer\n",
    "from sklearn.naive_bayes import MultinomialNB\n",
    "from sklearn.pipeline import Pipeline\n",
    "from sklearn.linear_model import LogisticRegression\n",
    "pipeline=Pipeline([('bow',CountVectorizer(analyzer=clean_text)),\n",
    "                   ('tfidf',TfidfTransformer()),\n",
    "                   ('classifier',LogisticRegression())\n",
    "                   ])"
   ]
  },
  {
   "cell_type": "code",
   "execution_count": 13,
   "metadata": {
    "colab": {
     "base_uri": "https://localhost:8080/",
     "height": 614
    },
    "colab_type": "code",
    "id": "6L5z57cOU3xP",
    "outputId": "f726ebef-49c2-4759-e587-f202ac9d57b8"
   },
   "outputs": [
    {
     "name": "stdout",
     "output_type": "stream",
     "text": [
      "Test Accuracy using Logistic Regression Classifier:  0.9388719257470112\n",
      "              precision    recall  f1-score   support\n",
      "\n",
      "           0       0.94      1.00      0.97    123617\n",
      "           1       0.39      0.00      0.00      8041\n",
      "\n",
      "    accuracy                           0.94    131658\n",
      "   macro avg       0.66      0.50      0.49    131658\n",
      "weighted avg       0.91      0.94      0.91    131658\n",
      "\n",
      "[[123598     19]\n",
      " [  8029     12]]\n"
     ]
    },
    {
     "data": {
      "image/png": "[encoded data removed]",
      "text/plain": [
       "<Figure size 360x360 with 1 Axes>"
      ]
     },
     "metadata": {
      "needs_background": "light"
     },
     "output_type": "display_data"
    }
   ],
   "source": [
    "pipeline.fit(train_sentences,train_labels)\n",
    "pred=pipeline.predict(test_sentences)\n",
    "\n",
    "from sklearn.metrics import accuracy_score\n",
    "print('Test Accuracy using Logistic Regression Classifier: ',accuracy_score(test_labels,pred))\n",
    "\n",
    "import matplotlib.pyplot as plt\n",
    "from sklearn.metrics import classification_report\n",
    "print(classification_report(test_labels,pred))\n",
    "\n",
    "from sklearn.metrics import confusion_matrix\n",
    "print(confusion_matrix(test_labels, pred))\n",
    "CM = confusion_matrix(test_labels, pred)\n",
    "from mlxtend.plotting import plot_confusion_matrix\n",
    "fig, ax = plot_confusion_matrix(conf_mat=CM ,  figsize=(5, 5))\n",
    "plt.show()"
   ]
  },
  {
   "cell_type": "markdown",
   "metadata": {
    "colab_type": "text",
    "id": "vK77SvjqptcY"
   },
   "source": [
    "### **This classifier could classify a few instances of the minority class. Yet, the results are abysmal.**"
   ]
  },
  {
   "cell_type": "markdown",
   "metadata": {
    "colab_type": "text",
    "id": "RF3O5yRaYWsJ"
   },
   "source": [
    "# **Word Embedding Models**"
   ]
  },
  {
   "cell_type": "code",
   "execution_count": 14,
   "metadata": {
    "colab": {
     "base_uri": "https://localhost:8080/",
     "height": 54
    },
    "colab_type": "code",
    "id": "Q_tJ81sOYeqS",
    "outputId": "905e4210-4a12-4208-b5d9-97c2f2919cb1"
   },
   "outputs": [
    {
     "name": "stdout",
     "output_type": "stream",
     "text": [
      "Original Size of Vocabulary:  178874\n",
      "New Size of Vocabulary:  50000\n"
     ]
    }
   ],
   "source": [
    "import numpy as np\n",
    "\n",
    "from tensorflow.keras.preprocessing.text import Tokenizer\n",
    "from tensorflow.keras.preprocessing.sequence import pad_sequences\n",
    "\n",
    "\n",
    "embedding_dim = 300\n",
    "max_length = 100\n",
    "trunc_type='post'\n",
    "padding_type='post'\n",
    "oov_tok = \"<OOV>\"\n",
    "vocab_len=49999\n",
    "\n",
    "\n",
    "tokenizer = Tokenizer(num_words=vocab_len+1,oov_token=oov_tok)\n",
    "tokenizer.fit_on_texts(sentences)\n",
    "\n",
    "word_index = tokenizer.word_index\n",
    "vocab_size=len(word_index)\n",
    "print('Original Size of Vocabulary: ',vocab_size)\n",
    "\n",
    "word_index = {e:i for e,i in word_index.items() if i <= vocab_len+1} #Reducing the Size of Vocabulary\n",
    "print('New Size of Vocabulary: ',len(word_index))\n",
    "\n",
    "sequences = tokenizer.texts_to_sequences(sentences)\n",
    "padded = pad_sequences(sequences, maxlen=max_length, padding=padding_type, truncating=trunc_type)\n",
    "\n",
    "train_sequences = tokenizer.texts_to_sequences(train_sentences)\n",
    "train_padded = pad_sequences(train_sequences, maxlen=max_length, padding=padding_type, truncating=trunc_type)\n",
    "\n",
    "val_sequences = tokenizer.texts_to_sequences(val_sentences)\n",
    "val_padded = pad_sequences(val_sequences, maxlen=max_length, padding=padding_type, truncating=trunc_type)\n",
    "\n",
    "test_sequences = tokenizer.texts_to_sequences(test_sentences)\n",
    "test_padded = pad_sequences(test_sequences, maxlen=max_length, padding=padding_type, truncating=trunc_type)\n",
    "\n",
    "\n",
    "train_labels=np.expand_dims(train_labels, axis=1)\n",
    "val_labels=np.expand_dims(val_labels, axis=1)\n",
    "test_labels=np.expand_dims(test_labels, axis=1)"
   ]
  },
  {
   "cell_type": "code",
   "execution_count": 15,
   "metadata": {
    "colab": {
     "base_uri": "https://localhost:8080/",
     "height": 109
    },
    "colab_type": "code",
    "id": "VYpxyjtjhEzh",
    "outputId": "8581ac9d-a3b5-4e7e-a610-0301fcf83e11"
   },
   "outputs": [
    {
     "name": "stdout",
     "output_type": "stream",
     "text": [
      "Dimension of Training Data:  (1043851, 100)\n",
      "Dimension of Validation Data:  (130613, 100)\n",
      "Dimension of Training Labels:  (1043851, 1)\n",
      "Dimension of Validation Labels:  (130613, 1)\n"
     ]
    }
   ],
   "source": [
    "#Dimension of Data after Tokenizing and Padding\n",
    "print('Dimension of Training Data: ',train_padded.shape)\n",
    "print('Dimension of Validation Data: ',val_padded.shape)\n",
    "print('Dimension of Training Labels: ',train_labels.shape)\n",
    "print('Dimension of Validation Labels: ',val_labels.shape)"
   ]
  },
  {
   "cell_type": "markdown",
   "metadata": {
    "colab_type": "text",
    "id": "RBpItmz724Fq"
   },
   "source": [
    "## **Bidirectional LSTM Model**"
   ]
  },
  {
   "cell_type": "code",
   "execution_count": 16,
   "metadata": {
    "colab": {},
    "colab_type": "code",
    "id": "QEeuA_LKiJYf"
   },
   "outputs": [],
   "source": [
    "#Building the Bidirectional LSTM Model\n",
    "from keras.layers.core import Dense, Dropout\n",
    "from keras.layers.recurrent import LSTM\n",
    "model = tf.keras.Sequential([\n",
    "    tf.keras.layers.Embedding(vocab_len+1, embedding_dim, input_length=max_length),\n",
    "    tf.keras.layers.Bidirectional((LSTM(20, return_sequences=True))),\n",
    "    tf.keras.layers.Bidirectional((LSTM(10, return_sequences=True))),\n",
    "    tf.keras.layers.Flatten(),\n",
    "    tf.keras.layers.Dense(16, activation='relu'),\n",
    "    tf.keras.layers.Dropout(0.1),\n",
    "    tf.keras.layers.Dense(1, activation='sigmoid')\n",
    "])"
   ]
  },
  {
   "cell_type": "code",
   "execution_count": 17,
   "metadata": {
    "colab": {},
    "colab_type": "code",
    "id": "QEeuA_LKiJYf",
    "scrolled": false
   },
   "outputs": [
    {
     "name": "stdout",
     "output_type": "stream",
     "text": [
      "Model: \"sequential\"\n",
      "_________________________________________________________________\n",
      "Layer (type)                 Output Shape              Param #   \n",
      "=================================================================\n",
      "embedding (Embedding)        (None, 100, 300)          15000000  \n",
      "_________________________________________________________________\n",
      "bidirectional (Bidirectional (None, 100, 40)           51360     \n",
      "_________________________________________________________________\n",
      "bidirectional_1 (Bidirection (None, 100, 20)           4080      \n",
      "_________________________________________________________________\n",
      "flatten (Flatten)            (None, 2000)              0         \n",
      "_________________________________________________________________\n",
      "dense (Dense)                (None, 16)                32016     \n",
      "_________________________________________________________________\n",
      "dropout (Dropout)            (None, 16)                0         \n",
      "_________________________________________________________________\n",
      "dense_1 (Dense)              (None, 1)                 17        \n",
      "=================================================================\n",
      "Total params: 15,087,473\n",
      "Trainable params: 15,087,473\n",
      "Non-trainable params: 0\n",
      "_________________________________________________________________\n"
     ]
    }
   ],
   "source": [
    "model.summary()"
   ]
  },
  {
   "cell_type": "code",
   "execution_count": 18,
   "metadata": {
    "colab": {
     "base_uri": "https://localhost:8080/",
     "height": 219
    },
    "colab_type": "code",
    "id": "-jVsNlOKiUxU",
    "outputId": "3fb976d8-92e6-44b1-b611-d5893849b420",
    "scrolled": true
   },
   "outputs": [
    {
     "name": "stdout",
     "output_type": "stream",
     "text": [
      "Epoch 1/2\n",
      "2039/2039 [==============================] - 2297s 1s/step - loss: 0.1426 - accuracy: 0.9469 - val_loss: 0.1125 - val_accuracy: 0.9556\n",
      "Epoch 2/2\n",
      "2039/2039 [==============================] - 2885s 1s/step - loss: 0.0959 - accuracy: 0.9615 - val_loss: 0.1078 - val_accuracy: 0.9575\n"
     ]
    }
   ],
   "source": [
    "reduce =tf. keras.callbacks.ReduceLROnPlateau(monitor='val_loss', factor=0.1, patience=3, mode='auto')\n",
    "#early = tf.keras.callbacks.EarlyStopping(monitor='val_loss', min_delta=1e-4, patience=10, mode='auto')\n",
    "model.compile(loss='binary_crossentropy',optimizer='adam',metrics=['accuracy'])\n",
    "num_epochs = 2\n",
    "history=model.fit(train_padded, train_labels, epochs=num_epochs, batch_size=512, validation_data=(val_padded,val_labels),callbacks=[reduce],verbose=1)"
   ]
  },
  {
   "cell_type": "code",
   "execution_count": 19,
   "metadata": {
    "colab": {
     "base_uri": "https://localhost:8080/",
     "height": 201
    },
    "colab_type": "code",
    "id": "j1G6_oKKlaaJ",
    "outputId": "a94ea538-9bd6-4712-f305-7c2d527b8f2e"
   },
   "outputs": [
    {
     "name": "stdout",
     "output_type": "stream",
     "text": [
      "256/256 [==============================] - 68s 257ms/step\n",
      "F1 score at threshold 0.1 is 0.5646883341183859\n",
      "F1 score at threshold 0.11 is 0.5736271705410741\n",
      "F1 score at threshold 0.12 is 0.5825394861643779\n",
      "F1 score at threshold 0.13 is 0.5903878583473862\n",
      "F1 score at threshold 0.14 is 0.5974193548387097\n",
      "F1 score at threshold 0.15 is 0.6035259635154644\n",
      "F1 score at threshold 0.16 is 0.6100200400801603\n",
      "F1 score at threshold 0.17 is 0.6146950971071574\n",
      "F1 score at threshold 0.18 is 0.6193388201756403\n",
      "F1 score at threshold 0.19 is 0.62337904655285\n",
      "F1 score at threshold 0.2 is 0.6278188364601099\n",
      "F1 score at threshold 0.21 is 0.6311893087203154\n",
      "F1 score at threshold 0.22 is 0.6345835362883585\n",
      "F1 score at threshold 0.23 is 0.6371532918764189\n",
      "F1 score at threshold 0.24 is 0.64007996001999\n",
      "F1 score at threshold 0.25 is 0.642795731553128\n",
      "F1 score at threshold 0.26 is 0.6453893442622951\n",
      "F1 score at threshold 0.27 is 0.6462479270315092\n",
      "F1 score at threshold 0.28 is 0.6468214454169068\n",
      "F1 score at threshold 0.29 is 0.6484938481120067\n",
      "F1 score at threshold 0.3 is 0.6492017572056145\n",
      "F1 score at threshold 0.31 is 0.648885997723207\n",
      "F1 score at threshold 0.32 is 0.6482720789906748\n",
      "F1 score at threshold 0.33 is 0.6493146123536268\n",
      "F1 score at threshold 0.34 is 0.6493287648149187\n",
      "F1 score at threshold 0.35 is 0.649794801641587\n",
      "F1 score at threshold 0.36 is 0.6494738059442582\n",
      "F1 score at threshold 0.37 is 0.6493399823995306\n",
      "F1 score at threshold 0.38 is 0.6487290910173223\n",
      "F1 score at threshold 0.39 is 0.6470801158301158\n",
      "F1 score at threshold 0.4 is 0.646886088339655\n",
      "F1 score at threshold 0.41 is 0.6444361649279683\n",
      "F1 score at threshold 0.42 is 0.6410482550081895\n",
      "F1 score at threshold 0.43 is 0.6382897255903\n",
      "F1 score at threshold 0.44 is 0.6353762606671839\n",
      "F1 score at threshold 0.45 is 0.6330058939096267\n",
      "F1 score at threshold 0.46 is 0.630728476821192\n",
      "F1 score at threshold 0.47 is 0.6278026905829596\n",
      "F1 score at threshold 0.48 is 0.6235612728503724\n",
      "F1 score at threshold 0.49 is 0.6206377446284386\n",
      "F1 score at threshold 0.5 is 0.6166609056342897\n"
     ]
    }
   ],
   "source": [
    "#Determining the optimal threshold value to seggregate the classes\n",
    "pred1 = model.predict(val_padded, batch_size=512,verbose=1)\n",
    "from sklearn import metrics\n",
    "for thresh in np.arange(0.1, 0.501, 0.01):\n",
    "    thresh = np.round(thresh, 2)\n",
    "    print(\"F1 score at threshold {0} is {1}\".format(thresh, metrics.f1_score(val_labels, (pred1>thresh).astype(int))))"
   ]
  },
  {
   "cell_type": "code",
   "execution_count": 20,
   "metadata": {
    "colab": {
     "base_uri": "https://localhost:8080/",
     "height": 539
    },
    "colab_type": "code",
    "id": "TyNBkAX3kWCx",
    "outputId": "2b62f10e-25c4-4e2d-ab14-18c0efc86adc"
   },
   "outputs": [
    {
     "name": "stdout",
     "output_type": "stream",
     "text": [
      "256/256 [==============================] - 56s 217ms/step\n",
      "              precision    recall  f1-score   support\n",
      "\n",
      "           0       0.98      0.97      0.97    122447\n",
      "           1       0.59      0.72      0.65      8166\n",
      "\n",
      "    accuracy                           0.95    130613\n",
      "   macro avg       0.78      0.84      0.81    130613\n",
      "weighted avg       0.96      0.95      0.95    130613\n",
      "\n",
      "[[118292   4155]\n",
      " [  2257   5909]]\n"
     ]
    },
    {
     "data": {
      "image/png": "[encoded data removed]",
      "text/plain": [
       "<Figure size 360x360 with 1 Axes>"
      ]
     },
     "metadata": {
      "needs_background": "light"
     },
     "output_type": "display_data"
    }
   ],
   "source": [
    "# From above, we can see that F1 score is highest at a threshold of 0.32\n",
    "pred1 = model.predict(val_padded, batch_size=512,verbose=1)\n",
    "pred_val_labels=(pred1>0.32).astype(int)\n",
    "\n",
    "from sklearn.metrics import classification_report\n",
    "print(classification_report(val_labels,pred_val_labels))\n",
    "\n",
    "from sklearn.metrics import confusion_matrix\n",
    "print(confusion_matrix(val_labels, pred_val_labels))\n",
    "CM = confusion_matrix(val_labels, pred_val_labels)\n",
    "from mlxtend.plotting import plot_confusion_matrix\n",
    "fig, ax = plot_confusion_matrix(conf_mat=CM ,  figsize=(5, 5))\n",
    "plt.show()"
   ]
  },
  {
   "cell_type": "markdown",
   "metadata": {
    "colab_type": "text",
    "id": "3dS1MCn2PhGr"
   },
   "source": [
    "## **Bidirectional GRU**"
   ]
  },
  {
   "cell_type": "code",
   "execution_count": null,
   "metadata": {
    "colab": {},
    "colab_type": "code",
    "id": "Z6IFv6UvO6ai"
   },
   "outputs": [],
   "source": [
    "#Building the Bidirectional GRU Model\n",
    "model_gru = tf.keras.Sequential([\n",
    "    tf.keras.layers.Embedding(vocab_len+1, embedding_dim, input_length=max_length),\n",
    "    tf.keras.layers.Bidirectional((tf.keras.layers.GRU(20, return_sequences=True))),      \n",
    "    tf.keras.layers.Bidirectional((tf.keras.layers.GRU(20, return_sequences=True))),\n",
    "    tf.keras.layers.Flatten(),\n",
    "    tf.keras.layers.Dense(16, activation='relu'),\n",
    "    tf.keras.layers.Dropout(0.1),\n",
    "    tf.keras.layers.Dense(1, activation='sigmoid')\n",
    "])"
   ]
  },
  {
   "cell_type": "code",
   "execution_count": 62,
   "metadata": {
    "colab": {},
    "colab_type": "code",
    "id": "Z6IFv6UvO6ai"
   },
   "outputs": [
    {
     "name": "stdout",
     "output_type": "stream",
     "text": [
      "Model: \"sequential_1\"\n",
      "_________________________________________________________________\n",
      "Layer (type)                 Output Shape              Param #   \n",
      "=================================================================\n",
      "embedding_1 (Embedding)      (None, 100, 300)          15000000  \n",
      "_________________________________________________________________\n",
      "bidirectional_2 (Bidirection (None, 100, 40)           38640     \n",
      "_________________________________________________________________\n",
      "bidirectional_3 (Bidirection (None, 100, 40)           7440      \n",
      "_________________________________________________________________\n",
      "flatten_1 (Flatten)          (None, 4000)              0         \n",
      "_________________________________________________________________\n",
      "dense_2 (Dense)              (None, 16)                64016     \n",
      "_________________________________________________________________\n",
      "dropout_1 (Dropout)          (None, 16)                0         \n",
      "_________________________________________________________________\n",
      "dense_3 (Dense)              (None, 1)                 17        \n",
      "=================================================================\n",
      "Total params: 15,110,113\n",
      "Trainable params: 15,110,113\n",
      "Non-trainable params: 0\n",
      "_________________________________________________________________\n"
     ]
    }
   ],
   "source": [
    "model_gru.summary()"
   ]
  },
  {
   "cell_type": "code",
   "execution_count": 22,
   "metadata": {
    "colab": {
     "base_uri": "https://localhost:8080/",
     "height": 219
    },
    "colab_type": "code",
    "id": "FycKoJRrO6w7",
    "outputId": "b9d5ef13-bea4-4c20-e060-57c0712a5a2b"
   },
   "outputs": [
    {
     "name": "stdout",
     "output_type": "stream",
     "text": [
      "Epoch 1/3\n",
      "2039/2039 [==============================] - 2595s 1s/step - loss: 0.1400 - accuracy: 0.9496 - val_loss: 0.1160 - val_accuracy: 0.9549\n",
      "Epoch 2/3\n",
      "2039/2039 [==============================] - 2351s 1s/step - loss: 0.1122 - accuracy: 0.9570 - val_loss: 0.1197 - val_accuracy: 0.9554\n",
      "Epoch 3/3\n",
      "2039/2039 [==============================] - 2369s 1s/step - loss: 0.1069 - accuracy: 0.9592 - val_loss: 0.1119 - val_accuracy: 0.9563\n"
     ]
    }
   ],
   "source": [
    "reduce =tf. keras.callbacks.ReduceLROnPlateau(monitor='val_loss', factor=0.1, patience=3, mode='auto')\n",
    "#early = tf.keras.callbacks.EarlyStopping(monitor='val_loss', min_delta=1e-4, patience=10, mode='auto')\n",
    "model_gru.compile(loss='binary_crossentropy',optimizer='rmsprop',metrics=['accuracy'])\n",
    "num_epochs = 2\n",
    "history_gru=model_gru.fit(train_padded, train_labels, epochs=num_epochs, batch_size=512, validation_data=(val_padded,val_labels),callbacks=[reduce],verbose=1)"
   ]
  },
  {
   "cell_type": "code",
   "execution_count": 23,
   "metadata": {
    "colab": {
     "base_uri": "https://localhost:8080/",
     "height": 182
    },
    "colab_type": "code",
    "id": "ydxR3Hk5O7Og",
    "outputId": "cce3ceaa-7655-4572-e8a9-5b6ca5a3b217"
   },
   "outputs": [
    {
     "name": "stdout",
     "output_type": "stream",
     "text": [
      "256/256 [==============================] - 76s 293ms/step\n",
      "F1 score at threshold 0.1 is 0.5633089476646033\n",
      "F1 score at threshold 0.15 is 0.6005219582433404\n",
      "F1 score at threshold 0.2 is 0.623897040900892\n",
      "F1 score at threshold 0.25 is 0.6376312078959737\n",
      "F1 score at threshold 0.3 is 0.6426156830146855\n",
      "F1 score at threshold 0.35 is 0.6425233644859814\n",
      "F1 score at threshold 0.4 is 0.6381860408263049\n",
      "F1 score at threshold 0.45 is 0.6309996160245746\n"
     ]
    }
   ],
   "source": [
    "#Determining the optimal threshold value to seggregate the classes\n",
    "pred2 = model_gru.predict(val_padded, batch_size=512,verbose=1)\n",
    "from sklearn import metrics\n",
    "for thresh in np.arange(0.1, 0.5, 0.05):\n",
    "    thresh = np.round(thresh, 2)\n",
    "    print(\"F1 score at threshold {0} is {1}\".format(thresh, metrics.f1_score(val_labels, (pred2>thresh).astype(int))))"
   ]
  },
  {
   "cell_type": "code",
   "execution_count": 24,
   "metadata": {
    "colab": {
     "base_uri": "https://localhost:8080/",
     "height": 539
    },
    "colab_type": "code",
    "id": "8bId1CBrO7n6",
    "outputId": "e0f4b7cb-3c1e-4a83-c240-33dcee8d4a90"
   },
   "outputs": [
    {
     "name": "stdout",
     "output_type": "stream",
     "text": [
      "              precision    recall  f1-score   support\n",
      "\n",
      "           0       0.98      0.97      0.97    122447\n",
      "           1       0.59      0.71      0.64      8166\n",
      "\n",
      "    accuracy                           0.95    130613\n",
      "   macro avg       0.78      0.84      0.81    130613\n",
      "weighted avg       0.96      0.95      0.95    130613\n",
      "\n",
      "[[118366   4081]\n",
      " [  2368   5798]]\n"
     ]
    },
    {
     "data": {
      "image/png": "[encoded data removed]",
      "text/plain": [
       "<Figure size 360x360 with 1 Axes>"
      ]
     },
     "metadata": {
      "needs_background": "light"
     },
     "output_type": "display_data"
    }
   ],
   "source": [
    "# From above, we can see that F1 score is highest at a threshold of 0.3\n",
    "pred_val_labels_gru=(pred2>0.3).astype(int)\n",
    "\n",
    "from sklearn.metrics import classification_report\n",
    "print(classification_report(val_labels,pred_val_labels_gru))\n",
    "\n",
    "from sklearn.metrics import confusion_matrix\n",
    "print(confusion_matrix(val_labels, pred_val_labels_gru))\n",
    "CM = confusion_matrix(val_labels, pred_val_labels_gru)\n",
    "from mlxtend.plotting import plot_confusion_matrix\n",
    "fig, ax = plot_confusion_matrix(conf_mat=CM ,  figsize=(5, 5))\n",
    "plt.show()"
   ]
  },
  {
   "cell_type": "markdown",
   "metadata": {
    "colab_type": "text",
    "id": "FbDYQOgo3aog"
   },
   "source": [
    "# **Pretrained Word Embeddings**"
   ]
  },
  {
   "cell_type": "markdown",
   "metadata": {
    "colab_type": "text",
    "id": "z-KlJRAc35zm"
   },
   "source": [
    "## Glove  word2vec"
   ]
  },
  {
   "cell_type": "markdown",
   "metadata": {
    "colab_type": "text",
    "id": "jN1CiinwvrHl"
   },
   "source": [
    "**GLOVE-300d-2M**"
   ]
  },
  {
   "cell_type": "code",
   "execution_count": 25,
   "metadata": {
    "scrolled": false
   },
   "outputs": [
    {
     "name": "stdout",
     "output_type": "stream",
     "text": [
      ".\n",
      "at\n",
      ".\n",
      "to\n",
      ".\n",
      ".\n",
      "email\n",
      "or\n",
      "contact\n",
      "Email\n",
      "on\n",
      "At\n",
      "by\n",
      "in\n",
      "emailing\n",
      "Contact\n",
      "at\n",
      "•\n",
      "at\n",
      "is\n"
     ]
    }
   ],
   "source": [
    "embeddings_index = {}\n",
    "with open(\"E:\\\\quora_data_set\\\\embeddings\\\\glove.840B.300d\\\\glove.840B.300d.txt\",encoding=\"utf8\") as f:\n",
    "    for line in f:\n",
    "        values = line.split()\n",
    "        #print(values)\n",
    "        word = values[0]\n",
    "        #print(word)\n",
    "        try:\n",
    "            coefs = np.asarray(values[1:], dtype='float32')            \n",
    "            embeddings_index[word] = coefs\n",
    "        except ValueError:\n",
    "            print(word)\n",
    "f.close()"
   ]
  },
  {
   "cell_type": "code",
   "execution_count": 26,
   "metadata": {
    "colab": {},
    "colab_type": "code",
    "id": "dr9wE12mv1mi"
   },
   "outputs": [],
   "source": [
    "# Creating an embedding matrix that contains the vectors of the words in the dataset\n",
    "embeddings_matrix = np.zeros((vocab_len+2, embedding_dim))\n",
    "for word, i in word_index.items():\n",
    "    embedding_vector = embeddings_index.get(word)\n",
    "    if embedding_vector is not None:\n",
    "        embeddings_matrix[i] = embedding_vector"
   ]
  },
  {
   "cell_type": "code",
   "execution_count": 27,
   "metadata": {
    "colab": {},
    "colab_type": "code",
    "id": "b58QW2e_2JZI"
   },
   "outputs": [],
   "source": [
    "embeddings_matrix=np.delete(embeddings_matrix, 1, 0)"
   ]
  },
  {
   "cell_type": "code",
   "execution_count": 28,
   "metadata": {
    "colab": {
     "base_uri": "https://localhost:8080/",
     "height": 35
    },
    "colab_type": "code",
    "id": "bFkkEH_9wBFD",
    "outputId": "b4609a43-f38a-4c76-a0b8-817899be99b1"
   },
   "outputs": [
    {
     "name": "stdout",
     "output_type": "stream",
     "text": [
      "Shape of the Embeddings Matrix:  (50000, 300)\n"
     ]
    }
   ],
   "source": [
    "print('Shape of the Embeddings Matrix: ',embeddings_matrix.shape)"
   ]
  },
  {
   "cell_type": "markdown",
   "metadata": {
    "colab_type": "text",
    "id": "ASNWoba-rkmy"
   },
   "source": [
    "## **Bidirectional LSTM**"
   ]
  },
  {
   "cell_type": "code",
   "execution_count": null,
   "metadata": {
    "colab": {},
    "colab_type": "code",
    "id": "hyx1B5fM2Mks"
   },
   "outputs": [],
   "source": [
    "model3_lstm = tf.keras.Sequential([\n",
    "    tf.keras.layers.Embedding(vocab_len+1, embedding_dim,weights=[embeddings_matrix], input_length=max_length),\n",
    "    tf.keras.layers.Bidirectional((LSTM(20, return_sequences=True))),\n",
    "    tf.keras.layers.Bidirectional((LSTM(10, return_sequences=True))),\n",
    "    tf.keras.layers.Flatten(),\n",
    "    tf.keras.layers.Dense(16, activation='relu'),\n",
    "    tf.keras.layers.Dropout(0.1),\n",
    "    tf.keras.layers.Dense(1, activation='sigmoid')\n",
    "])"
   ]
  },
  {
   "cell_type": "code",
   "execution_count": 63,
   "metadata": {
    "colab": {},
    "colab_type": "code",
    "id": "hyx1B5fM2Mks"
   },
   "outputs": [
    {
     "name": "stdout",
     "output_type": "stream",
     "text": [
      "Model: \"sequential_2\"\n",
      "_________________________________________________________________\n",
      "Layer (type)                 Output Shape              Param #   \n",
      "=================================================================\n",
      "embedding_2 (Embedding)      (None, 100, 300)          15000000  \n",
      "_________________________________________________________________\n",
      "bidirectional_4 (Bidirection (None, 100, 40)           51360     \n",
      "_________________________________________________________________\n",
      "bidirectional_5 (Bidirection (None, 100, 20)           4080      \n",
      "_________________________________________________________________\n",
      "flatten_2 (Flatten)          (None, 2000)              0         \n",
      "_________________________________________________________________\n",
      "dense_4 (Dense)              (None, 16)                32016     \n",
      "_________________________________________________________________\n",
      "dropout_2 (Dropout)          (None, 16)                0         \n",
      "_________________________________________________________________\n",
      "dense_5 (Dense)              (None, 1)                 17        \n",
      "=================================================================\n",
      "Total params: 15,087,473\n",
      "Trainable params: 15,087,473\n",
      "Non-trainable params: 0\n",
      "_________________________________________________________________\n"
     ]
    }
   ],
   "source": [
    "model3_lstm.summary()"
   ]
  },
  {
   "cell_type": "code",
   "execution_count": 30,
   "metadata": {
    "colab": {
     "base_uri": "https://localhost:8080/",
     "height": 219
    },
    "colab_type": "code",
    "id": "6LE67TO92Yha",
    "outputId": "d1847373-82d8-4850-fafe-231a59247e1b"
   },
   "outputs": [
    {
     "name": "stdout",
     "output_type": "stream",
     "text": [
      "Epoch 1/3\n",
      "2039/2039 [==============================] - 2816s 1s/step - loss: 0.1480 - accuracy: 0.9480 - val_loss: 0.1150 - val_accuracy: 0.9546\n",
      "Epoch 2/3\n",
      "2039/2039 [==============================] - 2731s 1s/step - loss: 0.1115 - accuracy: 0.9567 - val_loss: 0.1135 - val_accuracy: 0.9559\n",
      "Epoch 3/3\n",
      "2039/2039 [==============================] - 2728s 1s/step - loss: 0.1057 - accuracy: 0.9591 - val_loss: 0.1118 - val_accuracy: 0.9558\n"
     ]
    }
   ],
   "source": [
    "reduce =tf. keras.callbacks.ReduceLROnPlateau(monitor='val_loss', factor=0.1, patience=3, mode='auto')\n",
    "#early = tf.keras.callbacks.EarlyStopping(monitor='val_loss', min_delta=1e-4, patience=10, mode='auto')\n",
    "model3_lstm.compile(loss='binary_crossentropy',optimizer='rmsprop',metrics=['accuracy'])\n",
    "num_epochs = 3\n",
    "history3=model3_lstm.fit(train_padded, \n",
    "                    train_labels, \n",
    "                    epochs=num_epochs, \n",
    "                    batch_size=512, \n",
    "                    validation_data=(val_padded,val_labels),\n",
    "                    callbacks=[reduce],\n",
    "                    verbose=1)"
   ]
  },
  {
   "cell_type": "code",
   "execution_count": 31,
   "metadata": {
    "colab": {
     "base_uri": "https://localhost:8080/",
     "height": 182
    },
    "colab_type": "code",
    "id": "eP_kgM7M2fa4",
    "outputId": "027f2147-c02d-4e32-9a4e-839aa3e488e6"
   },
   "outputs": [
    {
     "name": "stdout",
     "output_type": "stream",
     "text": [
      "256/256 [==============================] - 95s 362ms/step\n",
      "F1 score at threshold 0.1 is 0.5486483403672864\n",
      "F1 score at threshold 0.15 is 0.5857818304626816\n",
      "F1 score at threshold 0.2 is 0.610115528063313\n",
      "F1 score at threshold 0.25 is 0.6276106023162281\n",
      "F1 score at threshold 0.3 is 0.6369616610134649\n",
      "F1 score at threshold 0.35 is 0.6434904844290656\n",
      "F1 score at threshold 0.4 is 0.6464886923992519\n",
      "F1 score at threshold 0.45 is 0.6466824644549763\n"
     ]
    }
   ],
   "source": [
    "#Determining the optimal threshold value to seggregate the classes\n",
    "pred3= model3_lstm.predict(val_padded, batch_size=512,verbose=1)\n",
    "from sklearn import metrics\n",
    "for thresh in np.arange(0.1, 0.5, 0.05):\n",
    "    thresh = np.round(thresh, 2)\n",
    "    print(\"F1 score at threshold {0} is {1}\".format(thresh, metrics.f1_score(val_labels, (pred3>thresh).astype(int))))"
   ]
  },
  {
   "cell_type": "code",
   "execution_count": 32,
   "metadata": {
    "colab": {
     "base_uri": "https://localhost:8080/",
     "height": 539
    },
    "colab_type": "code",
    "id": "_s_XRmXr2st_",
    "outputId": "18097cc6-9f74-4d4f-dd22-3dfe74552f8e"
   },
   "outputs": [
    {
     "name": "stdout",
     "output_type": "stream",
     "text": [
      "              precision    recall  f1-score   support\n",
      "\n",
      "           0       0.98      0.96      0.97    122447\n",
      "           1       0.55      0.76      0.64      8166\n",
      "\n",
      "    accuracy                           0.95    130613\n",
      "   macro avg       0.77      0.86      0.80    130613\n",
      "weighted avg       0.96      0.95      0.95    130613\n",
      "\n",
      "[[117352   5095]\n",
      " [  1969   6197]]\n"
     ]
    },
    {
     "data": {
      "image/png": "[encoded data removed]",
      "text/plain": [
       "<Figure size 360x360 with 1 Axes>"
      ]
     },
     "metadata": {
      "needs_background": "light"
     },
     "output_type": "display_data"
    }
   ],
   "source": [
    "#From above, we can see that F1 score is highest at a threshold of 0.3\n",
    "pred_ft3_val_labels=(pred3>0.3).astype(int)\n",
    "\n",
    "from sklearn.metrics import classification_report\n",
    "print(classification_report(val_labels,pred_ft3_val_labels))\n",
    "\n",
    "import matplotlib.pyplot as plt\n",
    "from sklearn.metrics import confusion_matrix\n",
    "print(confusion_matrix(val_labels, pred_ft3_val_labels))\n",
    "CM = confusion_matrix(val_labels, pred_ft3_val_labels)\n",
    "from mlxtend.plotting import plot_confusion_matrix\n",
    "fig, ax = plot_confusion_matrix(conf_mat=CM ,  figsize=(5, 5))\n",
    "plt.show()"
   ]
  },
  {
   "cell_type": "markdown",
   "metadata": {
    "colab_type": "text",
    "id": "21xw8Ld6rylt"
   },
   "source": [
    "## **Bidirectional GRU**"
   ]
  },
  {
   "cell_type": "code",
   "execution_count": null,
   "metadata": {
    "colab": {},
    "colab_type": "code",
    "id": "bwpCt9BeB_QC"
   },
   "outputs": [],
   "source": [
    "model4 = tf.keras.Sequential([\n",
    "    tf.keras.layers.Embedding(vocab_len+1, embedding_dim,weights=[embeddings_matrix], input_length=max_length),\n",
    "    tf.keras.layers.Bidirectional((tf.keras.layers.GRU(20, return_sequences=True))),      \n",
    "    tf.keras.layers.Bidirectional((tf.keras.layers.GRU(20, return_sequences=True))),\n",
    "    tf.keras.layers.Flatten(),\n",
    "    tf.keras.layers.Dense(16, activation='relu'),\n",
    "    tf.keras.layers.Dropout(0.1),\n",
    "    tf.keras.layers.Dense(1, activation='sigmoid')\n",
    "])"
   ]
  },
  {
   "cell_type": "code",
   "execution_count": 64,
   "metadata": {
    "colab": {},
    "colab_type": "code",
    "id": "bwpCt9BeB_QC"
   },
   "outputs": [
    {
     "name": "stdout",
     "output_type": "stream",
     "text": [
      "Model: \"sequential_3\"\n",
      "_________________________________________________________________\n",
      "Layer (type)                 Output Shape              Param #   \n",
      "=================================================================\n",
      "embedding_3 (Embedding)      (None, 100, 300)          15000000  \n",
      "_________________________________________________________________\n",
      "bidirectional_6 (Bidirection (None, 100, 40)           38640     \n",
      "_________________________________________________________________\n",
      "bidirectional_7 (Bidirection (None, 100, 40)           7440      \n",
      "_________________________________________________________________\n",
      "flatten_3 (Flatten)          (None, 4000)              0         \n",
      "_________________________________________________________________\n",
      "dense_6 (Dense)              (None, 16)                64016     \n",
      "_________________________________________________________________\n",
      "dropout_3 (Dropout)          (None, 16)                0         \n",
      "_________________________________________________________________\n",
      "dense_7 (Dense)              (None, 1)                 17        \n",
      "=================================================================\n",
      "Total params: 15,110,113\n",
      "Trainable params: 15,110,113\n",
      "Non-trainable params: 0\n",
      "_________________________________________________________________\n"
     ]
    }
   ],
   "source": [
    "model4.summary()"
   ]
  },
  {
   "cell_type": "code",
   "execution_count": 34,
   "metadata": {
    "colab": {
     "base_uri": "https://localhost:8080/",
     "height": 219
    },
    "colab_type": "code",
    "id": "jx9jmqK7CEx0",
    "outputId": "4dae94df-0d29-4d8b-da85-fd833b15cdf3"
   },
   "outputs": [
    {
     "name": "stdout",
     "output_type": "stream",
     "text": [
      "Epoch 1/5\n",
      "2039/2039 [==============================] - 3465s 2s/step - loss: 0.1506 - accuracy: 0.9443 - val_loss: 0.1156 - val_accuracy: 0.9544\n",
      "Epoch 2/5\n",
      "2039/2039 [==============================] - 3529s 2s/step - loss: 0.1129 - accuracy: 0.9561 - val_loss: 0.1119 - val_accuracy: 0.9558\n",
      "Epoch 3/5\n",
      "2039/2039 [==============================] - 3503s 2s/step - loss: 0.1065 - accuracy: 0.9587 - val_loss: 0.1115 - val_accuracy: 0.9559\n",
      "Epoch 4/5\n",
      "2039/2039 [==============================] - 3507s 2s/step - loss: 0.1028 - accuracy: 0.9603 - val_loss: 0.1130 - val_accuracy: 0.9551\n",
      "Epoch 5/5\n",
      "2039/2039 [==============================] - 3500s 2s/step - loss: 0.0971 - accuracy: 0.9627 - val_loss: 0.1151 - val_accuracy: 0.9556\n"
     ]
    }
   ],
   "source": [
    "reduce =tf. keras.callbacks.ReduceLROnPlateau(monitor='val_loss', factor=0.1, patience=10, mode='auto')\n",
    "#early = tf.keras.callbacks.EarlyStopping(monitor='val_loss', min_delta=1e-4, patience=10, mode='auto')\n",
    "model4.compile(loss='binary_crossentropy',optimizer='rmsprop',metrics=['accuracy'])\n",
    "num_epochs = 5\n",
    "history4=model4.fit(train_padded, \n",
    "                    train_labels, \n",
    "                    epochs=num_epochs, \n",
    "                    batch_size=512, \n",
    "                    validation_data=(val_padded,val_labels),\n",
    "                    callbacks=[reduce],\n",
    "                    verbose=1)"
   ]
  },
  {
   "cell_type": "code",
   "execution_count": 35,
   "metadata": {
    "colab": {
     "base_uri": "https://localhost:8080/",
     "height": 182
    },
    "colab_type": "code",
    "id": "paGYCXoqCMqf",
    "outputId": "94576847-2689-45ef-d32c-420157d8ebf6"
   },
   "outputs": [
    {
     "name": "stdout",
     "output_type": "stream",
     "text": [
      "256/256 [==============================] - 120s 463ms/step\n",
      "F1 score at threshold 0.1 is 0.5913331589502137\n",
      "F1 score at threshold 0.15 is 0.6168529087333942\n",
      "F1 score at threshold 0.2 is 0.6315843568528702\n",
      "F1 score at threshold 0.25 is 0.636981460338172\n",
      "F1 score at threshold 0.3 is 0.6370949207078832\n",
      "F1 score at threshold 0.35 is 0.6339984231912185\n",
      "F1 score at threshold 0.4 is 0.619870271658853\n",
      "F1 score at threshold 0.45 is 0.605568445475638\n"
     ]
    }
   ],
   "source": [
    "#Determining the optimal threshold value to seggregate the classes\n",
    "pred4 = model4.predict(val_padded, batch_size=512,verbose=1)\n",
    "from sklearn import metrics\n",
    "for thresh in np.arange(0.1, 0.5, 0.05):\n",
    "    thresh = np.round(thresh, 2)\n",
    "    print(\"F1 score at threshold {0} is {1}\".format(thresh, metrics.f1_score(val_labels, (pred4>thresh).astype(int))))"
   ]
  },
  {
   "cell_type": "code",
   "execution_count": 36,
   "metadata": {
    "colab": {
     "base_uri": "https://localhost:8080/",
     "height": 539
    },
    "colab_type": "code",
    "id": "YgvWgy9ICUx5",
    "outputId": "229e5a01-d0ec-4bd8-c83e-75f30f75657d"
   },
   "outputs": [
    {
     "name": "stdout",
     "output_type": "stream",
     "text": [
      "              precision    recall  f1-score   support\n",
      "\n",
      "           0       0.98      0.97      0.98    122447\n",
      "           1       0.63      0.64      0.63      8166\n",
      "\n",
      "    accuracy                           0.95    130613\n",
      "   macro avg       0.80      0.81      0.80    130613\n",
      "weighted avg       0.95      0.95      0.95    130613\n",
      "\n",
      "[[119351   3096]\n",
      " [  2939   5227]]\n"
     ]
    },
    {
     "data": {
      "image/png": "[encoded data removed]",
      "text/plain": [
       "<Figure size 360x360 with 1 Axes>"
      ]
     },
     "metadata": {
      "needs_background": "light"
     },
     "output_type": "display_data"
    }
   ],
   "source": [
    "#From above, we can see that F1 score is highest at a threshold of 0.35\n",
    "pred_ft4_val_labels=(pred4>0.35).astype(int)\n",
    "\n",
    "from sklearn.metrics import classification_report\n",
    "print(classification_report(val_labels,pred_ft4_val_labels))\n",
    "\n",
    "import matplotlib.pyplot as plt\n",
    "from sklearn.metrics import confusion_matrix\n",
    "print(confusion_matrix(val_labels, pred_ft4_val_labels))\n",
    "CM = confusion_matrix(val_labels, pred_ft4_val_labels)\n",
    "from mlxtend.plotting import plot_confusion_matrix\n",
    "fig, ax = plot_confusion_matrix(conf_mat=CM ,  figsize=(5, 5))\n",
    "plt.show()"
   ]
  },
  {
   "cell_type": "markdown",
   "metadata": {
    "colab_type": "text",
    "id": "0II-hwtPolVu"
   },
   "source": [
    "# **Final Model**"
   ]
  },
  {
   "cell_type": "markdown",
   "metadata": {
    "colab_type": "text",
    "id": "ISSEq_g2pTdf"
   },
   "source": [
    "###**Though the results of the above models are similar, there is a good chance that they might capture different type of information from the data. So, the final model is a blend of the 4 previous models.**"
   ]
  },
  {
   "cell_type": "code",
   "execution_count": 37,
   "metadata": {
    "colab": {
     "base_uri": "https://localhost:8080/",
     "height": 182
    },
    "colab_type": "code",
    "id": "mi5GpSlmhsuk",
    "outputId": "d54130cc-5fad-45d1-8bbc-2cd891f54c03"
   },
   "outputs": [
    {
     "name": "stdout",
     "output_type": "stream",
     "text": [
      "F1 score at threshold 0.1 is 0.5711806924836343\n",
      "F1 score at threshold 0.15 is 0.6124034429485765\n",
      "F1 score at threshold 0.2 is 0.6373193797705343\n",
      "F1 score at threshold 0.25 is 0.6525751404856421\n",
      "F1 score at threshold 0.3 is 0.6590386510456586\n",
      "F1 score at threshold 0.35 is 0.6582337240338864\n",
      "F1 score at threshold 0.4 is 0.6552402014989556\n",
      "F1 score at threshold 0.45 is 0.6426625145971194\n",
      "F1 score at threshold 0.5 is 0.6228877593075972\n"
     ]
    }
   ],
   "source": [
    "pred_final = 0.34*pred1 + 0.22*pred2 + 0.22*pred3 + 0.22*pred4\n",
    "for thresh in np.arange(0.1, 0.501, 0.05):\n",
    "    thresh = np.round(thresh, 2)\n",
    "    print(\"F1 score at threshold {0} is {1}\".format(thresh, metrics.f1_score(val_labels, (pred_final>thresh).astype(int))))"
   ]
  },
  {
   "cell_type": "code",
   "execution_count": 56,
   "metadata": {
    "colab": {
     "base_uri": "https://localhost:8080/",
     "height": 539
    },
    "colab_type": "code",
    "id": "mrimbS99j34u",
    "outputId": "1795c656-c49f-4c66-9f5f-e3286d9eb153"
   },
   "outputs": [
    {
     "name": "stdout",
     "output_type": "stream",
     "text": [
      "              precision    recall  f1-score   support\n",
      "\n",
      "           0       0.98      0.97      0.97    122447\n",
      "           1       0.60      0.74      0.66      8166\n",
      "\n",
      "    accuracy                           0.95    130613\n",
      "   macro avg       0.79      0.85      0.82    130613\n",
      "weighted avg       0.96      0.95      0.95    130613\n",
      "\n",
      "[[118366   4081]\n",
      " [  2147   6019]]\n"
     ]
    },
    {
     "data": {
      "image/png": "[encoded data removed]",
      "text/plain": [
       "<Figure size 360x360 with 1 Axes>"
      ]
     },
     "metadata": {
      "needs_background": "light"
     },
     "output_type": "display_data"
    }
   ],
   "source": [
    "pred_final_val_labels=(pred_final>0.3).astype(int)\n",
    "\n",
    "from sklearn.metrics import classification_report\n",
    "print(classification_report(val_labels,pred_final_val_labels))\n",
    "\n",
    "import matplotlib.pyplot as plt\n",
    "from sklearn.metrics import confusion_matrix\n",
    "print(confusion_matrix(val_labels, pred_final_val_labels))\n",
    "CM = confusion_matrix(val_labels, pred_final_val_labels)\n",
    "from mlxtend.plotting import plot_confusion_matrix\n",
    "fig, ax = plot_confusion_matrix(conf_mat=CM ,  figsize=(5, 5))\n",
    "plt.show()"
   ]
  },
  {
   "cell_type": "code",
   "execution_count": 39,
   "metadata": {
    "colab": {
     "base_uri": "https://localhost:8080/",
     "height": 90
    },
    "colab_type": "code",
    "id": "N_cyd77NvUqH",
    "outputId": "ad603070-22df-4423-92a1-2eb4743eab75"
   },
   "outputs": [
    {
     "name": "stdout",
     "output_type": "stream",
     "text": [
      "258/258 [==============================] - 105s 394ms/step\n",
      "258/258 [==============================] - 116s 440ms/step\n",
      "258/258 [==============================] - 99s 382ms/step\n",
      "258/258 [==============================] - 111s 431ms/step\n"
     ]
    }
   ],
   "source": [
    "pred1_l = model.predict(test_padded, batch_size=512,verbose=1)\n",
    "pred2_l = model_gru.predict(test_padded, batch_size=512,verbose=1)\n",
    "pred3_l = model3_lstm.predict(test_padded, batch_size=512,verbose=1)\n",
    "pred4_l = model4.predict(test_padded, batch_size=512,verbose=1)"
   ]
  },
  {
   "cell_type": "code",
   "execution_count": 61,
   "metadata": {
    "colab": {
     "base_uri": "https://localhost:8080/",
     "height": 90
    },
    "colab_type": "code",
    "id": "N_cyd77NvUqH",
    "outputId": "ad603070-22df-4423-92a1-2eb4743eab75"
   },
   "outputs": [
    {
     "name": "stdout",
     "output_type": "stream",
     "text": [
      "              precision    recall  f1-score   support\n",
      "\n",
      "           0       0.98      0.97      0.98    123617\n",
      "           1       0.61      0.69      0.65      8041\n",
      "\n",
      "    accuracy                           0.95    131658\n",
      "   macro avg       0.79      0.83      0.81    131658\n",
      "weighted avg       0.96      0.95      0.96    131658\n",
      "\n",
      "[[119977   3640]\n",
      " [  2460   5581]]\n"
     ]
    },
    {
     "data": {
      "image/png": "[encoded data removed]",
      "text/plain": [
       "<Figure size 360x360 with 1 Axes>"
      ]
     },
     "metadata": {
      "needs_background": "light"
     },
     "output_type": "display_data"
    }
   ],
   "source": [
    "pred_test_labels = pred1_l \n",
    "pred_test_labels = (pred_test_labels>0.35).astype(int)\n",
    "print(classification_report(test_labels, pred_test_labels))\n",
    "print(confusion_matrix(test_labels, pred_test_labels))\n",
    "CM = confusion_matrix(test_labels, pred_test_labels)\n",
    "from mlxtend.plotting import plot_confusion_matrix\n",
    "fig, ax = plot_confusion_matrix(conf_mat=CM ,  figsize=(5, 5))\n",
    "plt.show()"
   ]
  },
  {
   "cell_type": "code",
   "execution_count": 70,
   "metadata": {
    "colab": {
     "base_uri": "https://localhost:8080/",
     "height": 90
    },
    "colab_type": "code",
    "id": "N_cyd77NvUqH",
    "outputId": "ad603070-22df-4423-92a1-2eb4743eab75"
   },
   "outputs": [
    {
     "name": "stdout",
     "output_type": "stream",
     "text": [
      "              precision    recall  f1-score   support\n",
      "\n",
      "           0       0.98      0.97      0.97    123617\n",
      "           1       0.60      0.67      0.64      8041\n",
      "\n",
      "    accuracy                           0.95    131658\n",
      "   macro avg       0.79      0.82      0.81    131658\n",
      "weighted avg       0.96      0.95      0.95    131658\n",
      "\n",
      "[[120039   3578]\n",
      " [  2618   5423]]\n"
     ]
    },
    {
     "data": {
      "image/png": "[encoded data removed]",
      "text/plain": [
       "<Figure size 360x360 with 1 Axes>"
      ]
     },
     "metadata": {
      "needs_background": "light"
     },
     "output_type": "display_data"
    }
   ],
   "source": [
    "pred_test_labels = pred2_l \n",
    "pred_test_labels = (pred_test_labels>0.35).astype(int)\n",
    "print(classification_report(test_labels, pred_test_labels))\n",
    "print(confusion_matrix(test_labels, pred_test_labels))\n",
    "CM = confusion_matrix(test_labels, pred_test_labels)\n",
    "from mlxtend.plotting import plot_confusion_matrix\n",
    "fig, ax = plot_confusion_matrix(conf_mat=CM ,  figsize=(5, 5))\n",
    "plt.show()"
   ]
  },
  {
   "cell_type": "code",
   "execution_count": 72,
   "metadata": {
    "colab": {
     "base_uri": "https://localhost:8080/",
     "height": 90
    },
    "colab_type": "code",
    "id": "N_cyd77NvUqH",
    "outputId": "ad603070-22df-4423-92a1-2eb4743eab75"
   },
   "outputs": [
    {
     "name": "stdout",
     "output_type": "stream",
     "text": [
      "              precision    recall  f1-score   support\n",
      "\n",
      "           0       0.98      0.96      0.97    123617\n",
      "           1       0.57      0.72      0.64      8041\n",
      "\n",
      "    accuracy                           0.95    131658\n",
      "   macro avg       0.78      0.84      0.81    131658\n",
      "weighted avg       0.96      0.95      0.95    131658\n",
      "\n",
      "[[119209   4408]\n",
      " [  2217   5824]]\n"
     ]
    },
    {
     "data": {
      "image/png": "[encoded data removed]",
      "text/plain": [
       "<Figure size 360x360 with 1 Axes>"
      ]
     },
     "metadata": {
      "needs_background": "light"
     },
     "output_type": "display_data"
    }
   ],
   "source": [
    "pred_test_labels = pred3_l \n",
    "pred_test_labels = (pred_test_labels>0.35).astype(int)\n",
    "print(classification_report(test_labels, pred_test_labels))\n",
    "print(confusion_matrix(test_labels, pred_test_labels))\n",
    "CM = confusion_matrix(test_labels, pred_test_labels)\n",
    "from mlxtend.plotting import plot_confusion_matrix\n",
    "fig, ax = plot_confusion_matrix(conf_mat=CM ,  figsize=(5, 5))\n",
    "plt.show()"
   ]
  },
  {
   "cell_type": "code",
   "execution_count": 71,
   "metadata": {
    "colab": {
     "base_uri": "https://localhost:8080/",
     "height": 90
    },
    "colab_type": "code",
    "id": "N_cyd77NvUqH",
    "outputId": "ad603070-22df-4423-92a1-2eb4743eab75"
   },
   "outputs": [
    {
     "name": "stdout",
     "output_type": "stream",
     "text": [
      "              precision    recall  f1-score   support\n",
      "\n",
      "           0       0.98      0.97      0.98    123617\n",
      "           1       0.62      0.63      0.63      8041\n",
      "\n",
      "    accuracy                           0.95    131658\n",
      "   macro avg       0.80      0.80      0.80    131658\n",
      "weighted avg       0.95      0.95      0.95    131658\n",
      "\n",
      "[[120514   3103]\n",
      " [  2943   5098]]\n"
     ]
    },
    {
     "data": {
      "image/png": "[encoded data removed]",
      "text/plain": [
       "<Figure size 360x360 with 1 Axes>"
      ]
     },
     "metadata": {
      "needs_background": "light"
     },
     "output_type": "display_data"
    }
   ],
   "source": [
    "pred_test_labels = pred4_l \n",
    "pred_test_labels = (pred_test_labels>0.35).astype(int)\n",
    "print(classification_report(test_labels, pred_test_labels))\n",
    "print(confusion_matrix(test_labels, pred_test_labels))\n",
    "CM = confusion_matrix(test_labels, pred_test_labels)\n",
    "from mlxtend.plotting import plot_confusion_matrix\n",
    "fig, ax = plot_confusion_matrix(conf_mat=CM ,  figsize=(5, 5))\n",
    "plt.show()"
   ]
  },
  {
   "cell_type": "code",
   "execution_count": 74,
   "metadata": {
    "colab": {
     "base_uri": "https://localhost:8080/",
     "height": 90
    },
    "colab_type": "code",
    "id": "N_cyd77NvUqH",
    "outputId": "ad603070-22df-4423-92a1-2eb4743eab75"
   },
   "outputs": [
    {
     "name": "stdout",
     "output_type": "stream",
     "text": [
      "              precision    recall  f1-score   support\n",
      "\n",
      "           0       0.98      0.97      0.98    123617\n",
      "           1       0.62      0.69      0.65      8041\n",
      "\n",
      "    accuracy                           0.96    131658\n",
      "   macro avg       0.80      0.83      0.81    131658\n",
      "weighted avg       0.96      0.96      0.96    131658\n",
      "\n",
      "[[120183   3434]\n",
      " [  2474   5567]]\n"
     ]
    },
    {
     "data": {
      "image/png": "[encoded data removed]",
      "text/plain": [
       "<Figure size 360x360 with 1 Axes>"
      ]
     },
     "metadata": {
      "needs_background": "light"
     },
     "output_type": "display_data"
    }
   ],
   "source": [
    "pred_test_labels = 0.34*pred1_l + 0.22*pred2_l + 0.22*pred3_l + 0.22*pred4_l\n",
    "pred_test_labels = (pred_test_labels>0.35).astype(int)\n",
    "print(classification_report(test_labels, pred_test_labels))\n",
    "print(confusion_matrix(test_labels, pred_test_labels))\n",
    "CM = confusion_matrix(test_labels, pred_test_labels)\n",
    "from mlxtend.plotting import plot_confusion_matrix\n",
    "fig, ax = plot_confusion_matrix(conf_mat=CM ,  figsize=(5, 5))\n",
    "plt.show()"
   ]
  },
  {
   "cell_type": "code",
   "execution_count": null,
   "metadata": {},
   "outputs": [],
   "source": []
  },
  {
   "cell_type": "code",
   "execution_count": null,
   "metadata": {},
   "outputs": [],
   "source": []
  }
 ],
 "metadata": {
  "accelerator": "GPU",
  "colab": {
   "collapsed_sections": [],
   "include_colab_link": true,
   "name": "Quora Insincere Questions Classification.ipynb",
   "provenance": [],
   "version": "0.3.2"
  },
  "kernelspec": {
   "display_name": "Python 3",
   "language": "python",
   "name": "python3"
  },
  "language_info": {
   "codemirror_mode": {
    "name": "ipython",
    "version": 3
   },
   "file_extension": ".py",
   "mimetype": "text/x-python",
   "name": "python",
   "nbconvert_exporter": "python",
   "pygments_lexer": "ipython3",
   "version": "3.8.3"
  }
 },
 "nbformat": 4,
 "nbformat_minor": 1
}
